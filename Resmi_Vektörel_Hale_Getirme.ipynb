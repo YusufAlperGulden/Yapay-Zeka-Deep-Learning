{
  "nbformat": 4,
  "nbformat_minor": 0,
  "metadata": {
    "colab": {
      "provenance": [],
      "authorship_tag": "ABX9TyPbX9Fq2R7nMPSJkC3KWcM3",
      "include_colab_link": true
    },
    "kernelspec": {
      "name": "python3",
      "display_name": "Python 3"
    },
    "language_info": {
      "name": "python"
    }
  },
  "cells": [
    {
      "cell_type": "markdown",
      "metadata": {
        "id": "view-in-github",
        "colab_type": "text"
      },
      "source": [
        "<a href=\"https://colab.research.google.com/github/YusufAlperGulden/Yapay-Zeka-Deep-Learning/blob/main/Resmi_Vekt%C3%B6rel_Hale_Getirme.ipynb\" target=\"_parent\"><img src=\"https://colab.research.google.com/assets/colab-badge.svg\" alt=\"Open In Colab\"/></a>"
      ]
    },
    {
      "cell_type": "code",
      "execution_count": 1,
      "metadata": {
        "id": "uPxLR6-CaNrH"
      },
      "outputs": [],
      "source": [
        "from PIL import Image #This gives you access to open and display images."
      ]
    },
    {
      "cell_type": "code",
      "source": [
        "import numpy as np #This is used to convert an image into an array."
      ],
      "metadata": {
        "id": "cHZL8qpo7NON"
      },
      "execution_count": 2,
      "outputs": []
    },
    {
      "cell_type": "code",
      "source": [
        "a=Image.open(\"image.png\") #Loads the image file named \"image.png\" from your working directory."
      ],
      "metadata": {
        "id": "ZhXAZoj57Ptl"
      },
      "execution_count": 3,
      "outputs": []
    },
    {
      "cell_type": "code",
      "source": [
        "np.array(a)#Converts the image (opened with a=Image.open(\"image.png\")) into a NumPy array."
      ],
      "metadata": {
        "colab": {
          "base_uri": "https://localhost:8080/"
        },
        "id": "NrlqBWb37W40",
        "outputId": "f471312e-5ae4-45e1-ba86-2403d136b131"
      },
      "execution_count": 4,
      "outputs": [
        {
          "output_type": "execute_result",
          "data": {
            "text/plain": [
              "array([[[241, 242, 246],\n",
              "        [240, 241, 245],\n",
              "        [240, 241, 245],\n",
              "        ...,\n",
              "        [241, 242, 246],\n",
              "        [242, 243, 247],\n",
              "        [242, 243, 247]],\n",
              "\n",
              "       [[241, 242, 246],\n",
              "        [240, 241, 245],\n",
              "        [240, 241, 245],\n",
              "        ...,\n",
              "        [241, 242, 246],\n",
              "        [242, 243, 247],\n",
              "        [242, 243, 247]],\n",
              "\n",
              "       [[241, 242, 246],\n",
              "        [240, 241, 245],\n",
              "        [240, 241, 245],\n",
              "        ...,\n",
              "        [241, 242, 246],\n",
              "        [242, 243, 247],\n",
              "        [242, 243, 247]],\n",
              "\n",
              "       ...,\n",
              "\n",
              "       [[242, 243, 247],\n",
              "        [241, 242, 246],\n",
              "        [241, 242, 246],\n",
              "        ...,\n",
              "        [237, 238, 242],\n",
              "        [238, 239, 243],\n",
              "        [239, 240, 244]],\n",
              "\n",
              "       [[242, 243, 247],\n",
              "        [241, 242, 246],\n",
              "        [241, 242, 246],\n",
              "        ...,\n",
              "        [237, 238, 242],\n",
              "        [238, 239, 243],\n",
              "        [239, 240, 244]],\n",
              "\n",
              "       [[242, 243, 247],\n",
              "        [241, 242, 246],\n",
              "        [241, 242, 246],\n",
              "        ...,\n",
              "        [237, 238, 242],\n",
              "        [238, 239, 243],\n",
              "        [239, 240, 244]]], dtype=uint8)"
            ]
          },
          "metadata": {},
          "execution_count": 4
        }
      ]
    }
  ]
}