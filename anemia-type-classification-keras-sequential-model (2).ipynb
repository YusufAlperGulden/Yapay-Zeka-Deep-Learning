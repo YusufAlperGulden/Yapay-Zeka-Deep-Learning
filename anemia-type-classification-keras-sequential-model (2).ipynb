{
 "cells": [
  {
   "cell_type": "code",
   "execution_count": 1,
   "id": "e6f4cb37",
   "metadata": {
    "_cell_guid": "b1076dfc-b9ad-4769-8c92-a6c4dae69d19",
    "_uuid": "8f2839f25d086af736a60e9eeb907d3b93b6e0e5",
    "execution": {
     "iopub.execute_input": "2025-08-03T20:19:30.760134Z",
     "iopub.status.busy": "2025-08-03T20:19:30.759884Z",
     "iopub.status.idle": "2025-08-03T20:19:32.162619Z",
     "shell.execute_reply": "2025-08-03T20:19:32.161958Z"
    },
    "papermill": {
     "duration": 1.408,
     "end_time": "2025-08-03T20:19:32.163953",
     "exception": false,
     "start_time": "2025-08-03T20:19:30.755953",
     "status": "completed"
    },
    "tags": []
   },
   "outputs": [
    {
     "name": "stdout",
     "output_type": "stream",
     "text": [
      "/kaggle/input/anemia-types-classification/diagnosed_cbc_data_v4.csv\n"
     ]
    }
   ],
   "source": [
    "# This Python 3 environment comes with many helpful analytics libraries installed\n",
    "# It is defined by the kaggle/python Docker image: https://github.com/kaggle/docker-python\n",
    "# For example, here's several helpful packages to load\n",
    "\n",
    "import numpy as np # linear algebra\n",
    "import pandas as pd # data processing, CSV file I/O (e.g. pd.read_csv)\n",
    "\n",
    "# Input data files are available in the read-only \"../input/\" directory\n",
    "# For example, running this (by clicking run or pressing Shift+Enter) will list all files under the input directory\n",
    "\n",
    "import os\n",
    "for dirname, _, filenames in os.walk('/kaggle/input'):\n",
    "    for filename in filenames:\n",
    "        print(os.path.join(dirname, filename))\n",
    "\n",
    "# You can write up to 20GB to the current directory (/kaggle/working/) that gets preserved as output when you create a version using \"Save & Run All\" \n",
    "# You can also write temporary files to /kaggle/temp/, but they won't be saved outside of the current session"
   ]
  },
  {
   "cell_type": "code",
   "execution_count": 2,
   "id": "6daca9f9",
   "metadata": {
    "execution": {
     "iopub.execute_input": "2025-08-03T20:19:32.169924Z",
     "iopub.status.busy": "2025-08-03T20:19:32.169590Z",
     "iopub.status.idle": "2025-08-03T20:19:32.211661Z",
     "shell.execute_reply": "2025-08-03T20:19:32.211073Z"
    },
    "papermill": {
     "duration": 0.04598,
     "end_time": "2025-08-03T20:19:32.212687",
     "exception": false,
     "start_time": "2025-08-03T20:19:32.166707",
     "status": "completed"
    },
    "tags": []
   },
   "outputs": [
    {
     "data": {
      "text/html": [
       "<div>\n",
       "<style scoped>\n",
       "    .dataframe tbody tr th:only-of-type {\n",
       "        vertical-align: middle;\n",
       "    }\n",
       "\n",
       "    .dataframe tbody tr th {\n",
       "        vertical-align: top;\n",
       "    }\n",
       "\n",
       "    .dataframe thead th {\n",
       "        text-align: right;\n",
       "    }\n",
       "</style>\n",
       "<table border=\"1\" class=\"dataframe\">\n",
       "  <thead>\n",
       "    <tr style=\"text-align: right;\">\n",
       "      <th></th>\n",
       "      <th>WBC</th>\n",
       "      <th>LYMp</th>\n",
       "      <th>NEUTp</th>\n",
       "      <th>LYMn</th>\n",
       "      <th>NEUTn</th>\n",
       "      <th>RBC</th>\n",
       "      <th>HGB</th>\n",
       "      <th>HCT</th>\n",
       "      <th>MCV</th>\n",
       "      <th>MCH</th>\n",
       "      <th>MCHC</th>\n",
       "      <th>PLT</th>\n",
       "      <th>PDW</th>\n",
       "      <th>PCT</th>\n",
       "      <th>Diagnosis</th>\n",
       "    </tr>\n",
       "  </thead>\n",
       "  <tbody>\n",
       "    <tr>\n",
       "      <th>0</th>\n",
       "      <td>10.0</td>\n",
       "      <td>43.2</td>\n",
       "      <td>50.1</td>\n",
       "      <td>4.3</td>\n",
       "      <td>5.0</td>\n",
       "      <td>2.77</td>\n",
       "      <td>7.3</td>\n",
       "      <td>24.2</td>\n",
       "      <td>87.7</td>\n",
       "      <td>26.3</td>\n",
       "      <td>30.1</td>\n",
       "      <td>189.0</td>\n",
       "      <td>12.5</td>\n",
       "      <td>0.17</td>\n",
       "      <td>Normocytic hypochromic anemia</td>\n",
       "    </tr>\n",
       "    <tr>\n",
       "      <th>1</th>\n",
       "      <td>10.0</td>\n",
       "      <td>42.4</td>\n",
       "      <td>52.3</td>\n",
       "      <td>4.2</td>\n",
       "      <td>5.3</td>\n",
       "      <td>2.84</td>\n",
       "      <td>7.3</td>\n",
       "      <td>25.0</td>\n",
       "      <td>88.2</td>\n",
       "      <td>25.7</td>\n",
       "      <td>20.2</td>\n",
       "      <td>180.0</td>\n",
       "      <td>12.5</td>\n",
       "      <td>0.16</td>\n",
       "      <td>Normocytic hypochromic anemia</td>\n",
       "    </tr>\n",
       "    <tr>\n",
       "      <th>2</th>\n",
       "      <td>7.2</td>\n",
       "      <td>30.7</td>\n",
       "      <td>60.7</td>\n",
       "      <td>2.2</td>\n",
       "      <td>4.4</td>\n",
       "      <td>3.97</td>\n",
       "      <td>9.0</td>\n",
       "      <td>30.5</td>\n",
       "      <td>77.0</td>\n",
       "      <td>22.6</td>\n",
       "      <td>29.5</td>\n",
       "      <td>148.0</td>\n",
       "      <td>14.3</td>\n",
       "      <td>0.14</td>\n",
       "      <td>Iron deficiency anemia</td>\n",
       "    </tr>\n",
       "    <tr>\n",
       "      <th>3</th>\n",
       "      <td>6.0</td>\n",
       "      <td>30.2</td>\n",
       "      <td>63.5</td>\n",
       "      <td>1.8</td>\n",
       "      <td>3.8</td>\n",
       "      <td>4.22</td>\n",
       "      <td>3.8</td>\n",
       "      <td>32.8</td>\n",
       "      <td>77.9</td>\n",
       "      <td>23.2</td>\n",
       "      <td>29.8</td>\n",
       "      <td>143.0</td>\n",
       "      <td>11.3</td>\n",
       "      <td>0.12</td>\n",
       "      <td>Iron deficiency anemia</td>\n",
       "    </tr>\n",
       "    <tr>\n",
       "      <th>4</th>\n",
       "      <td>4.2</td>\n",
       "      <td>39.1</td>\n",
       "      <td>53.7</td>\n",
       "      <td>1.6</td>\n",
       "      <td>2.3</td>\n",
       "      <td>3.93</td>\n",
       "      <td>0.4</td>\n",
       "      <td>316.0</td>\n",
       "      <td>80.6</td>\n",
       "      <td>23.9</td>\n",
       "      <td>29.7</td>\n",
       "      <td>236.0</td>\n",
       "      <td>12.8</td>\n",
       "      <td>0.22</td>\n",
       "      <td>Normocytic hypochromic anemia</td>\n",
       "    </tr>\n",
       "  </tbody>\n",
       "</table>\n",
       "</div>"
      ],
      "text/plain": [
       "    WBC  LYMp  NEUTp  LYMn  NEUTn   RBC  HGB    HCT   MCV   MCH  MCHC    PLT  \\\n",
       "0  10.0  43.2   50.1   4.3    5.0  2.77  7.3   24.2  87.7  26.3  30.1  189.0   \n",
       "1  10.0  42.4   52.3   4.2    5.3  2.84  7.3   25.0  88.2  25.7  20.2  180.0   \n",
       "2   7.2  30.7   60.7   2.2    4.4  3.97  9.0   30.5  77.0  22.6  29.5  148.0   \n",
       "3   6.0  30.2   63.5   1.8    3.8  4.22  3.8   32.8  77.9  23.2  29.8  143.0   \n",
       "4   4.2  39.1   53.7   1.6    2.3  3.93  0.4  316.0  80.6  23.9  29.7  236.0   \n",
       "\n",
       "    PDW   PCT                      Diagnosis  \n",
       "0  12.5  0.17  Normocytic hypochromic anemia  \n",
       "1  12.5  0.16  Normocytic hypochromic anemia  \n",
       "2  14.3  0.14         Iron deficiency anemia  \n",
       "3  11.3  0.12         Iron deficiency anemia  \n",
       "4  12.8  0.22  Normocytic hypochromic anemia  "
      ]
     },
     "execution_count": 2,
     "metadata": {},
     "output_type": "execute_result"
    }
   ],
   "source": [
    "df=pd.read_csv('/kaggle/input/anemia-types-classification/diagnosed_cbc_data_v4.csv')\n",
    "df.head()"
   ]
  },
  {
   "cell_type": "code",
   "execution_count": 3,
   "id": "efa00ae6",
   "metadata": {
    "execution": {
     "iopub.execute_input": "2025-08-03T20:19:32.218534Z",
     "iopub.status.busy": "2025-08-03T20:19:32.218331Z",
     "iopub.status.idle": "2025-08-03T20:19:32.222532Z",
     "shell.execute_reply": "2025-08-03T20:19:32.222022Z"
    },
    "papermill": {
     "duration": 0.008252,
     "end_time": "2025-08-03T20:19:32.223545",
     "exception": false,
     "start_time": "2025-08-03T20:19:32.215293",
     "status": "completed"
    },
    "tags": []
   },
   "outputs": [],
   "source": [
    "y=df['Diagnosis']#Her zaman 'y' tahmin etmek istediklerimizi simgeler.\n",
    "#df.head() yaptığımızda tabloda 'Diagnosis' sütununu görmüştük. Oradaki sütunu y'ye atıyoruz."
   ]
  },
  {
   "cell_type": "code",
   "execution_count": 4,
   "id": "e1feb4bb",
   "metadata": {
    "execution": {
     "iopub.execute_input": "2025-08-03T20:19:32.229362Z",
     "iopub.status.busy": "2025-08-03T20:19:32.229036Z",
     "iopub.status.idle": "2025-08-03T20:19:32.237147Z",
     "shell.execute_reply": "2025-08-03T20:19:32.236413Z"
    },
    "papermill": {
     "duration": 0.012152,
     "end_time": "2025-08-03T20:19:32.238236",
     "exception": false,
     "start_time": "2025-08-03T20:19:32.226084",
     "status": "completed"
    },
    "tags": []
   },
   "outputs": [],
   "source": [
    "x=df.drop('Diagnosis',axis=1)#Diagnosis'i atıyor ve geriye kalan hepsini x'e atıyoruz.\n",
    "#Her zaman 'x' değeri özellikler (features) gösterir.\n",
    "#axis=1 ekledim çünkü bu sütun bazında işlem yapılacağını belirtir. Bu olmadan hata verir."
   ]
  },
  {
   "cell_type": "code",
   "execution_count": 5,
   "id": "d7aeddd8",
   "metadata": {
    "execution": {
     "iopub.execute_input": "2025-08-03T20:19:32.243997Z",
     "iopub.status.busy": "2025-08-03T20:19:32.243799Z",
     "iopub.status.idle": "2025-08-03T20:19:33.421625Z",
     "shell.execute_reply": "2025-08-03T20:19:33.421039Z"
    },
    "papermill": {
     "duration": 1.182257,
     "end_time": "2025-08-03T20:19:33.423008",
     "exception": false,
     "start_time": "2025-08-03T20:19:32.240751",
     "status": "completed"
    },
    "tags": []
   },
   "outputs": [],
   "source": [
    "from sklearn.preprocessing import LabelEncoder\n",
    "#LabelEncoder is used to convert categorical labels (like strings) into numeric values.\n",
    "le=LabelEncoder()#Creates an instance of the LabelEncoder class.\n",
    "y=le.fit_transform(y)#Learns the unique categories in y and converts those categories into numbers."
   ]
  },
  {
   "cell_type": "code",
   "execution_count": 6,
   "id": "ada0086c",
   "metadata": {
    "execution": {
     "iopub.execute_input": "2025-08-03T20:19:33.429345Z",
     "iopub.status.busy": "2025-08-03T20:19:33.429020Z",
     "iopub.status.idle": "2025-08-03T20:19:33.434260Z",
     "shell.execute_reply": "2025-08-03T20:19:33.433765Z"
    },
    "papermill": {
     "duration": 0.009441,
     "end_time": "2025-08-03T20:19:33.435313",
     "exception": false,
     "start_time": "2025-08-03T20:19:33.425872",
     "status": "completed"
    },
    "tags": []
   },
   "outputs": [
    {
     "data": {
      "text/plain": [
       "array(['Macrocytic anemia'], dtype=object)"
      ]
     },
     "execution_count": 6,
     "metadata": {},
     "output_type": "execute_result"
    }
   ],
   "source": [
    "le.inverse_transform([4])#Reverse label encoding — converts numeric label back to its original categorical form."
   ]
  },
  {
   "cell_type": "code",
   "execution_count": 7,
   "id": "3a468ef2",
   "metadata": {
    "execution": {
     "iopub.execute_input": "2025-08-03T20:19:33.441266Z",
     "iopub.status.busy": "2025-08-03T20:19:33.441053Z",
     "iopub.status.idle": "2025-08-03T20:19:45.722162Z",
     "shell.execute_reply": "2025-08-03T20:19:45.721287Z"
    },
    "papermill": {
     "duration": 12.285608,
     "end_time": "2025-08-03T20:19:45.723574",
     "exception": false,
     "start_time": "2025-08-03T20:19:33.437966",
     "status": "completed"
    },
    "tags": []
   },
   "outputs": [
    {
     "name": "stderr",
     "output_type": "stream",
     "text": [
      "2025-08-03 20:19:34.920207: E external/local_xla/xla/stream_executor/cuda/cuda_fft.cc:477] Unable to register cuFFT factory: Attempting to register factory for plugin cuFFT when one has already been registered\n",
      "WARNING: All log messages before absl::InitializeLog() is called are written to STDERR\n",
      "E0000 00:00:1754252375.117541      19 cuda_dnn.cc:8310] Unable to register cuDNN factory: Attempting to register factory for plugin cuDNN when one has already been registered\n",
      "E0000 00:00:1754252375.167649      19 cuda_blas.cc:1418] Unable to register cuBLAS factory: Attempting to register factory for plugin cuBLAS when one has already been registered\n"
     ]
    }
   ],
   "source": [
    "from tensorflow.keras.utils import to_categorical\n",
    "#Sayısal etiketleri one-hot encoding formatına çevirir. Bu format, özellikle Keras ile çok sınıflı sınıflandırma yaparken softmax aktivasyonlu çıkış katmanları için gereklidir.\n",
    "y=to_categorical(y)\n",
    "#convert your target labels y into one-hot encoded format, which is essential for multi-class classification tasks using neural networks like your Keras Sequential model."
   ]
  },
  {
   "cell_type": "code",
   "execution_count": 8,
   "id": "bde328ed",
   "metadata": {
    "execution": {
     "iopub.execute_input": "2025-08-03T20:19:45.730624Z",
     "iopub.status.busy": "2025-08-03T20:19:45.729838Z",
     "iopub.status.idle": "2025-08-03T20:19:45.734675Z",
     "shell.execute_reply": "2025-08-03T20:19:45.734120Z"
    },
    "papermill": {
     "duration": 0.009133,
     "end_time": "2025-08-03T20:19:45.735701",
     "exception": false,
     "start_time": "2025-08-03T20:19:45.726568",
     "status": "completed"
    },
    "tags": []
   },
   "outputs": [
    {
     "data": {
      "text/plain": [
       "array([0., 0., 0., 0., 0., 1., 0., 0., 0.])"
      ]
     },
     "execution_count": 8,
     "metadata": {},
     "output_type": "execute_result"
    }
   ],
   "source": [
    "y[0]"
   ]
  },
  {
   "cell_type": "code",
   "execution_count": 9,
   "id": "ec5be4ea",
   "metadata": {
    "execution": {
     "iopub.execute_input": "2025-08-03T20:19:45.742157Z",
     "iopub.status.busy": "2025-08-03T20:19:45.741937Z",
     "iopub.status.idle": "2025-08-03T20:19:45.826298Z",
     "shell.execute_reply": "2025-08-03T20:19:45.825543Z"
    },
    "papermill": {
     "duration": 0.088947,
     "end_time": "2025-08-03T20:19:45.827563",
     "exception": false,
     "start_time": "2025-08-03T20:19:45.738616",
     "status": "completed"
    },
    "tags": []
   },
   "outputs": [],
   "source": [
    "from sklearn.model_selection import train_test_split\n",
    "\n",
    "x_train,x_test,y_train,y_test=train_test_split(x,y,train_size=0.75,random_state=43)"
   ]
  },
  {
   "cell_type": "code",
   "execution_count": 10,
   "id": "22cd1727",
   "metadata": {
    "execution": {
     "iopub.execute_input": "2025-08-03T20:19:45.834144Z",
     "iopub.status.busy": "2025-08-03T20:19:45.833926Z",
     "iopub.status.idle": "2025-08-03T20:19:45.839707Z",
     "shell.execute_reply": "2025-08-03T20:19:45.839135Z"
    },
    "papermill": {
     "duration": 0.010239,
     "end_time": "2025-08-03T20:19:45.840814",
     "exception": false,
     "start_time": "2025-08-03T20:19:45.830575",
     "status": "completed"
    },
    "tags": []
   },
   "outputs": [],
   "source": [
    "from tensorflow.keras.models import Sequential\n",
    "model=Sequential()"
   ]
  },
  {
   "cell_type": "code",
   "execution_count": 11,
   "id": "5d993782",
   "metadata": {
    "execution": {
     "iopub.execute_input": "2025-08-03T20:19:45.848371Z",
     "iopub.status.busy": "2025-08-03T20:19:45.847753Z",
     "iopub.status.idle": "2025-08-03T20:19:45.852109Z",
     "shell.execute_reply": "2025-08-03T20:19:45.851565Z"
    },
    "papermill": {
     "duration": 0.008671,
     "end_time": "2025-08-03T20:19:45.853149",
     "exception": false,
     "start_time": "2025-08-03T20:19:45.844478",
     "status": "completed"
    },
    "tags": []
   },
   "outputs": [
    {
     "data": {
      "text/plain": [
       "Index(['WBC', 'LYMp', 'NEUTp', 'LYMn', 'NEUTn', 'RBC', 'HGB', 'HCT', 'MCV',\n",
       "       'MCH', 'MCHC', 'PLT', 'PDW', 'PCT'],\n",
       "      dtype='object')"
      ]
     },
     "execution_count": 11,
     "metadata": {},
     "output_type": "execute_result"
    }
   ],
   "source": [
    "x.columns #Sütunların isimlerini bir liste olarak gösterir."
   ]
  },
  {
   "cell_type": "code",
   "execution_count": 12,
   "id": "20858e45",
   "metadata": {
    "execution": {
     "iopub.execute_input": "2025-08-03T20:19:45.859770Z",
     "iopub.status.busy": "2025-08-03T20:19:45.859312Z",
     "iopub.status.idle": "2025-08-03T20:19:45.863229Z",
     "shell.execute_reply": "2025-08-03T20:19:45.862780Z"
    },
    "papermill": {
     "duration": 0.008178,
     "end_time": "2025-08-03T20:19:45.864209",
     "exception": false,
     "start_time": "2025-08-03T20:19:45.856031",
     "status": "completed"
    },
    "tags": []
   },
   "outputs": [
    {
     "data": {
      "text/plain": [
       "14"
      ]
     },
     "execution_count": 12,
     "metadata": {},
     "output_type": "execute_result"
    }
   ],
   "source": [
    "len(x.columns) #Sütun sayısını gösterir."
   ]
  },
  {
   "cell_type": "code",
   "execution_count": 13,
   "id": "9d99f95e",
   "metadata": {
    "execution": {
     "iopub.execute_input": "2025-08-03T20:19:45.871524Z",
     "iopub.status.busy": "2025-08-03T20:19:45.871016Z",
     "iopub.status.idle": "2025-08-03T20:19:47.986482Z",
     "shell.execute_reply": "2025-08-03T20:19:47.985913Z"
    },
    "papermill": {
     "duration": 2.120098,
     "end_time": "2025-08-03T20:19:47.987708",
     "exception": false,
     "start_time": "2025-08-03T20:19:45.867610",
     "status": "completed"
    },
    "tags": []
   },
   "outputs": [
    {
     "name": "stderr",
     "output_type": "stream",
     "text": [
      "/usr/local/lib/python3.11/dist-packages/keras/src/layers/core/dense.py:87: UserWarning: Do not pass an `input_shape`/`input_dim` argument to a layer. When using Sequential models, prefer using an `Input(shape)` object as the first layer in the model instead.\n",
      "  super().__init__(activity_regularizer=activity_regularizer, **kwargs)\n",
      "I0000 00:00:1754252386.716495      19 gpu_device.cc:2022] Created device /job:localhost/replica:0/task:0/device:GPU:0 with 15513 MB memory:  -> device: 0, name: Tesla P100-PCIE-16GB, pci bus id: 0000:00:04.0, compute capability: 6.0\n"
     ]
    }
   ],
   "source": [
    "from tensorflow.keras.layers import Dense\n",
    "\n",
    "model.add(Dense(64,activation='relu',input_dim=len(x.columns))) #Adding the first hidden layer to neural network.\n",
    "\n",
    "#Dense(64)=\tAdds a fully connected layer with 64 neurons.\n",
    "\n",
    "#activation='relu'=\tUses ReLU activation to introduce non-linearity.\n",
    "\n",
    "#input_dim=len(x.columns)=\tSets the input size to match the number of features in x"
   ]
  },
  {
   "cell_type": "code",
   "execution_count": 14,
   "id": "8233b499",
   "metadata": {
    "execution": {
     "iopub.execute_input": "2025-08-03T20:19:47.995021Z",
     "iopub.status.busy": "2025-08-03T20:19:47.994795Z",
     "iopub.status.idle": "2025-08-03T20:19:48.026653Z",
     "shell.execute_reply": "2025-08-03T20:19:48.025976Z"
    },
    "papermill": {
     "duration": 0.036733,
     "end_time": "2025-08-03T20:19:48.027817",
     "exception": false,
     "start_time": "2025-08-03T20:19:47.991084",
     "status": "completed"
    },
    "tags": []
   },
   "outputs": [],
   "source": [
    "model.add(Dense(32, activation='relu')) #Adds a hidden layer with 32 neurons and ReLU activation.\n",
    "model.add(Dense(32, activation='relu')) #This layer learns intermediate features from the previous layer.\n",
    "model.add(Dense(9, activation='softmax'))#Output layer with 9 neurons (for 9 anemia types).\n",
    "\n",
    "#'softmax' activation converts outputs into probabilities summing to 1."
   ]
  },
  {
   "cell_type": "code",
   "execution_count": 15,
   "id": "26cd3452",
   "metadata": {
    "execution": {
     "iopub.execute_input": "2025-08-03T20:19:48.035259Z",
     "iopub.status.busy": "2025-08-03T20:19:48.034575Z",
     "iopub.status.idle": "2025-08-03T20:19:48.039114Z",
     "shell.execute_reply": "2025-08-03T20:19:48.038187Z"
    },
    "papermill": {
     "duration": 0.009232,
     "end_time": "2025-08-03T20:19:48.040183",
     "exception": false,
     "start_time": "2025-08-03T20:19:48.030951",
     "status": "completed"
    },
    "tags": []
   },
   "outputs": [
    {
     "name": "stdout",
     "output_type": "stream",
     "text": [
      "Help on method compile in module keras.src.trainers.trainer:\n",
      "\n",
      "compile(optimizer='rmsprop', loss=None, loss_weights=None, metrics=None, weighted_metrics=None, run_eagerly=False, steps_per_execution=1, jit_compile='auto', auto_scale_loss=True) method of keras.src.models.sequential.Sequential instance\n",
      "    Configures the model for training.\n",
      "    \n",
      "    Example:\n",
      "    \n",
      "    ```python\n",
      "    model.compile(\n",
      "        optimizer=keras.optimizers.Adam(learning_rate=1e-3),\n",
      "        loss=keras.losses.BinaryCrossentropy(),\n",
      "        metrics=[\n",
      "            keras.metrics.BinaryAccuracy(),\n",
      "            keras.metrics.FalseNegatives(),\n",
      "        ],\n",
      "    )\n",
      "    ```\n",
      "    \n",
      "    Args:\n",
      "        optimizer: String (name of optimizer) or optimizer instance. See\n",
      "            `keras.optimizers`.\n",
      "        loss: Loss function. May be a string (name of loss function), or\n",
      "            a `keras.losses.Loss` instance. See `keras.losses`. A\n",
      "            loss function is any callable with the signature\n",
      "            `loss = fn(y_true, y_pred)`, where `y_true` are the ground truth\n",
      "            values, and `y_pred` are the model's predictions.\n",
      "            `y_true` should have shape `(batch_size, d0, .. dN)`\n",
      "            (except in the case of sparse loss functions such as\n",
      "            sparse categorical crossentropy which expects integer arrays of\n",
      "            shape `(batch_size, d0, .. dN-1)`).\n",
      "            `y_pred` should have shape `(batch_size, d0, .. dN)`.\n",
      "            The loss function should return a float tensor.\n",
      "        loss_weights: Optional list or dictionary specifying scalar\n",
      "            coefficients (Python floats) to weight the loss contributions of\n",
      "            different model outputs. The loss value that will be minimized\n",
      "            by the model will then be the *weighted sum* of all individual\n",
      "            losses, weighted by the `loss_weights` coefficients.  If a list,\n",
      "            it is expected to have a 1:1 mapping to the model's outputs. If\n",
      "            a dict, it is expected to map output names (strings) to scalar\n",
      "            coefficients.\n",
      "        metrics: List of metrics to be evaluated by the model during\n",
      "            training and testing. Each of this can be a string (name of a\n",
      "            built-in function), function or a `keras.metrics.Metric`\n",
      "            instance. See `keras.metrics`. Typically you will use\n",
      "            `metrics=['accuracy']`. A function is any callable with the\n",
      "            signature `result = fn(y_true, _pred)`. To specify different\n",
      "            metrics for different outputs of a multi-output model, you could\n",
      "            also pass a dictionary, such as\n",
      "            `metrics={'a':'accuracy', 'b':['accuracy', 'mse']}`.\n",
      "            You can also pass a list to specify a metric or a list of\n",
      "            metrics for each output, such as\n",
      "            `metrics=[['accuracy'], ['accuracy', 'mse']]`\n",
      "            or `metrics=['accuracy', ['accuracy', 'mse']]`. When you pass\n",
      "            the strings 'accuracy' or 'acc', we convert this to one of\n",
      "            `keras.metrics.BinaryAccuracy`,\n",
      "            `keras.metrics.CategoricalAccuracy`,\n",
      "            `keras.metrics.SparseCategoricalAccuracy` based on the\n",
      "            shapes of the targets and of the model output. A similar\n",
      "            conversion is done for the strings `\"crossentropy\"`\n",
      "            and `\"ce\"` as well.\n",
      "            The metrics passed here are evaluated without sample weighting;\n",
      "            if you would like sample weighting to apply, you can specify\n",
      "            your metrics via the `weighted_metrics` argument instead.\n",
      "        weighted_metrics: List of metrics to be evaluated and weighted by\n",
      "            `sample_weight` or `class_weight` during training and testing.\n",
      "        run_eagerly: Bool. If `True`, this model's forward pass\n",
      "             will never be compiled. It is recommended to leave this\n",
      "             as `False` when training (for best performance),\n",
      "             and to set it to `True` when debugging.\n",
      "        steps_per_execution: Int. The number of batches to run\n",
      "            during each a single compiled function call. Running multiple\n",
      "            batches inside a single compiled function call can\n",
      "            greatly improve performance on TPUs or small models with a large\n",
      "            Python overhead. At most, one full epoch will be run each\n",
      "            execution. If a number larger than the size of the epoch is\n",
      "            passed, the execution will be truncated to the size of the\n",
      "            epoch. Note that if `steps_per_execution` is set to `N`,\n",
      "            `Callback.on_batch_begin` and `Callback.on_batch_end` methods\n",
      "            will only be called every `N` batches (i.e. before/after\n",
      "            each compiled function execution).\n",
      "            Not supported with the PyTorch backend.\n",
      "        jit_compile: Bool or `\"auto\"`. Whether to use XLA compilation when\n",
      "            compiling a model. For `jax` and `tensorflow` backends,\n",
      "            `jit_compile=\"auto\"` enables XLA compilation if the model\n",
      "            supports it, and disabled otherwise.\n",
      "            For `torch` backend, `\"auto\"` will default to eager\n",
      "            execution and `jit_compile=True` will run with `torch.compile`\n",
      "            with the `\"inductor\"` backend.\n",
      "        auto_scale_loss: Bool. If `True` and the model dtype policy is\n",
      "            `\"mixed_float16\"`, the passed optimizer will be automatically\n",
      "            wrapped in a `LossScaleOptimizer`, which will dynamically\n",
      "            scale the loss to prevent underflow.\n",
      "\n"
     ]
    }
   ],
   "source": [
    "help(model.compile) #I need to check this first."
   ]
  },
  {
   "cell_type": "code",
   "execution_count": 16,
   "id": "d99e6639",
   "metadata": {
    "execution": {
     "iopub.execute_input": "2025-08-03T20:19:48.047960Z",
     "iopub.status.busy": "2025-08-03T20:19:48.047263Z",
     "iopub.status.idle": "2025-08-03T20:19:48.058537Z",
     "shell.execute_reply": "2025-08-03T20:19:48.058027Z"
    },
    "papermill": {
     "duration": 0.016151,
     "end_time": "2025-08-03T20:19:48.059620",
     "exception": false,
     "start_time": "2025-08-03T20:19:48.043469",
     "status": "completed"
    },
    "tags": []
   },
   "outputs": [],
   "source": [
    "model.compile(optimizer='adam',loss='categorical_crossentropy',metrics=['accuracy'])\n",
    "#oAdam optimizer adapts learning rates during training for faster convergence. It’s a great default choice.\n",
    "\n",
    "#Specifies the loss function for multi-class classification when your labels are one-hot encoded."
   ]
  },
  {
   "cell_type": "code",
   "execution_count": 17,
   "id": "4f5daf82",
   "metadata": {
    "execution": {
     "iopub.execute_input": "2025-08-03T20:19:48.066930Z",
     "iopub.status.busy": "2025-08-03T20:19:48.066718Z",
     "iopub.status.idle": "2025-08-03T20:20:08.992283Z",
     "shell.execute_reply": "2025-08-03T20:20:08.991679Z"
    },
    "papermill": {
     "duration": 20.930396,
     "end_time": "2025-08-03T20:20:08.993343",
     "exception": false,
     "start_time": "2025-08-03T20:19:48.062947",
     "status": "completed"
    },
    "tags": []
   },
   "outputs": [
    {
     "name": "stdout",
     "output_type": "stream",
     "text": [
      "Epoch 1/128\n"
     ]
    },
    {
     "name": "stderr",
     "output_type": "stream",
     "text": [
      "WARNING: All log messages before absl::InitializeLog() is called are written to STDERR\n",
      "I0000 00:00:1754252389.928761      59 service.cc:148] XLA service 0x781f0c00b800 initialized for platform CUDA (this does not guarantee that XLA will be used). Devices:\n",
      "I0000 00:00:1754252389.929316      59 service.cc:156]   StreamExecutor device (0): Tesla P100-PCIE-16GB, Compute Capability 6.0\n",
      "I0000 00:00:1754252390.167012      59 cuda_dnn.cc:529] Loaded cuDNN version 90300\n"
     ]
    },
    {
     "name": "stdout",
     "output_type": "stream",
     "text": [
      "\u001b[1m 1/23\u001b[0m \u001b[37m━━━━━━━━━━━━━━━━━━━━\u001b[0m \u001b[1m1:00\u001b[0m 3s/step - accuracy: 0.0000e+00 - loss: 46.4003"
     ]
    },
    {
     "name": "stderr",
     "output_type": "stream",
     "text": [
      "I0000 00:00:1754252390.882609      59 device_compiler.h:188] Compiled cluster using XLA!  This line is logged at most once for the lifetime of the process.\n"
     ]
    },
    {
     "name": "stdout",
     "output_type": "stream",
     "text": [
      "\u001b[1m23/23\u001b[0m \u001b[32m━━━━━━━━━━━━━━━━━━━━\u001b[0m\u001b[37m\u001b[0m \u001b[1m4s\u001b[0m 68ms/step - accuracy: 0.1099 - loss: 23.1939 - val_accuracy: 0.2511 - val_loss: 5.0063\n",
      "Epoch 2/128\n",
      "\u001b[1m23/23\u001b[0m \u001b[32m━━━━━━━━━━━━━━━━━━━━\u001b[0m\u001b[37m\u001b[0m \u001b[1m0s\u001b[0m 5ms/step - accuracy: 0.2690 - loss: 3.9403 - val_accuracy: 0.3160 - val_loss: 2.6948\n",
      "Epoch 3/128\n",
      "\u001b[1m23/23\u001b[0m \u001b[32m━━━━━━━━━━━━━━━━━━━━\u001b[0m\u001b[37m\u001b[0m \u001b[1m0s\u001b[0m 6ms/step - accuracy: 0.4043 - loss: 2.0520 - val_accuracy: 0.3853 - val_loss: 2.0639\n",
      "Epoch 4/128\n",
      "\u001b[1m23/23\u001b[0m \u001b[32m━━━━━━━━━━━━━━━━━━━━\u001b[0m\u001b[37m\u001b[0m \u001b[1m0s\u001b[0m 5ms/step - accuracy: 0.3816 - loss: 1.8610 - val_accuracy: 0.4848 - val_loss: 1.9154\n",
      "Epoch 5/128\n",
      "\u001b[1m23/23\u001b[0m \u001b[32m━━━━━━━━━━━━━━━━━━━━\u001b[0m\u001b[37m\u001b[0m \u001b[1m0s\u001b[0m 5ms/step - accuracy: 0.4379 - loss: 1.8368 - val_accuracy: 0.4632 - val_loss: 1.7759\n",
      "Epoch 6/128\n",
      "\u001b[1m23/23\u001b[0m \u001b[32m━━━━━━━━━━━━━━━━━━━━\u001b[0m\u001b[37m\u001b[0m \u001b[1m0s\u001b[0m 5ms/step - accuracy: 0.4564 - loss: 1.5522 - val_accuracy: 0.4935 - val_loss: 1.6635\n",
      "Epoch 7/128\n",
      "\u001b[1m23/23\u001b[0m \u001b[32m━━━━━━━━━━━━━━━━━━━━\u001b[0m\u001b[37m\u001b[0m \u001b[1m0s\u001b[0m 5ms/step - accuracy: 0.4625 - loss: 1.5726 - val_accuracy: 0.5325 - val_loss: 1.6974\n",
      "Epoch 8/128\n",
      "\u001b[1m23/23\u001b[0m \u001b[32m━━━━━━━━━━━━━━━━━━━━\u001b[0m\u001b[37m\u001b[0m \u001b[1m0s\u001b[0m 5ms/step - accuracy: 0.4791 - loss: 1.5858 - val_accuracy: 0.4675 - val_loss: 1.5731\n",
      "Epoch 9/128\n",
      "\u001b[1m23/23\u001b[0m \u001b[32m━━━━━━━━━━━━━━━━━━━━\u001b[0m\u001b[37m\u001b[0m \u001b[1m0s\u001b[0m 5ms/step - accuracy: 0.4602 - loss: 1.5287 - val_accuracy: 0.4069 - val_loss: 1.5638\n",
      "Epoch 10/128\n",
      "\u001b[1m23/23\u001b[0m \u001b[32m━━━━━━━━━━━━━━━━━━━━\u001b[0m\u001b[37m\u001b[0m \u001b[1m0s\u001b[0m 5ms/step - accuracy: 0.4118 - loss: 1.5460 - val_accuracy: 0.5541 - val_loss: 1.4772\n",
      "Epoch 11/128\n",
      "\u001b[1m23/23\u001b[0m \u001b[32m━━━━━━━━━━━━━━━━━━━━\u001b[0m\u001b[37m\u001b[0m \u001b[1m0s\u001b[0m 5ms/step - accuracy: 0.4615 - loss: 1.4692 - val_accuracy: 0.4026 - val_loss: 1.6222\n",
      "Epoch 12/128\n",
      "\u001b[1m23/23\u001b[0m \u001b[32m━━━━━━━━━━━━━━━━━━━━\u001b[0m\u001b[37m\u001b[0m \u001b[1m0s\u001b[0m 5ms/step - accuracy: 0.4611 - loss: 1.4979 - val_accuracy: 0.4892 - val_loss: 1.4559\n",
      "Epoch 13/128\n",
      "\u001b[1m23/23\u001b[0m \u001b[32m━━━━━━━━━━━━━━━━━━━━\u001b[0m\u001b[37m\u001b[0m \u001b[1m0s\u001b[0m 5ms/step - accuracy: 0.5010 - loss: 1.3798 - val_accuracy: 0.4719 - val_loss: 1.4140\n",
      "Epoch 14/128\n",
      "\u001b[1m23/23\u001b[0m \u001b[32m━━━━━━━━━━━━━━━━━━━━\u001b[0m\u001b[37m\u001b[0m \u001b[1m0s\u001b[0m 5ms/step - accuracy: 0.4948 - loss: 1.3736 - val_accuracy: 0.5455 - val_loss: 1.4461\n",
      "Epoch 15/128\n",
      "\u001b[1m23/23\u001b[0m \u001b[32m━━━━━━━━━━━━━━━━━━━━\u001b[0m\u001b[37m\u001b[0m \u001b[1m0s\u001b[0m 5ms/step - accuracy: 0.4868 - loss: 1.3784 - val_accuracy: 0.5455 - val_loss: 1.4376\n",
      "Epoch 16/128\n",
      "\u001b[1m23/23\u001b[0m \u001b[32m━━━━━━━━━━━━━━━━━━━━\u001b[0m\u001b[37m\u001b[0m \u001b[1m0s\u001b[0m 5ms/step - accuracy: 0.5103 - loss: 1.3694 - val_accuracy: 0.5022 - val_loss: 1.3888\n",
      "Epoch 17/128\n",
      "\u001b[1m23/23\u001b[0m \u001b[32m━━━━━━━━━━━━━━━━━━━━\u001b[0m\u001b[37m\u001b[0m \u001b[1m0s\u001b[0m 5ms/step - accuracy: 0.5005 - loss: 1.4267 - val_accuracy: 0.4199 - val_loss: 1.4829\n",
      "Epoch 18/128\n",
      "\u001b[1m23/23\u001b[0m \u001b[32m━━━━━━━━━━━━━━━━━━━━\u001b[0m\u001b[37m\u001b[0m \u001b[1m0s\u001b[0m 5ms/step - accuracy: 0.4735 - loss: 1.4725 - val_accuracy: 0.4805 - val_loss: 1.5791\n",
      "Epoch 19/128\n",
      "\u001b[1m23/23\u001b[0m \u001b[32m━━━━━━━━━━━━━━━━━━━━\u001b[0m\u001b[37m\u001b[0m \u001b[1m0s\u001b[0m 5ms/step - accuracy: 0.4963 - loss: 1.3623 - val_accuracy: 0.5368 - val_loss: 1.4043\n",
      "Epoch 20/128\n",
      "\u001b[1m23/23\u001b[0m \u001b[32m━━━━━━━━━━━━━━━━━━━━\u001b[0m\u001b[37m\u001b[0m \u001b[1m0s\u001b[0m 5ms/step - accuracy: 0.5412 - loss: 1.2809 - val_accuracy: 0.5411 - val_loss: 1.4170\n",
      "Epoch 21/128\n",
      "\u001b[1m23/23\u001b[0m \u001b[32m━━━━━━━━━━━━━━━━━━━━\u001b[0m\u001b[37m\u001b[0m \u001b[1m0s\u001b[0m 5ms/step - accuracy: 0.5682 - loss: 1.2255 - val_accuracy: 0.5844 - val_loss: 1.3226\n",
      "Epoch 22/128\n",
      "\u001b[1m23/23\u001b[0m \u001b[32m━━━━━━━━━━━━━━━━━━━━\u001b[0m\u001b[37m\u001b[0m \u001b[1m0s\u001b[0m 5ms/step - accuracy: 0.5622 - loss: 1.2954 - val_accuracy: 0.5801 - val_loss: 1.3438\n",
      "Epoch 23/128\n",
      "\u001b[1m23/23\u001b[0m \u001b[32m━━━━━━━━━━━━━━━━━━━━\u001b[0m\u001b[37m\u001b[0m \u001b[1m0s\u001b[0m 5ms/step - accuracy: 0.5674 - loss: 1.1791 - val_accuracy: 0.5974 - val_loss: 1.3358\n",
      "Epoch 24/128\n",
      "\u001b[1m23/23\u001b[0m \u001b[32m━━━━━━━━━━━━━━━━━━━━\u001b[0m\u001b[37m\u001b[0m \u001b[1m0s\u001b[0m 5ms/step - accuracy: 0.5599 - loss: 1.3191 - val_accuracy: 0.6104 - val_loss: 1.2841\n",
      "Epoch 25/128\n",
      "\u001b[1m23/23\u001b[0m \u001b[32m━━━━━━━━━━━━━━━━━━━━\u001b[0m\u001b[37m\u001b[0m \u001b[1m0s\u001b[0m 5ms/step - accuracy: 0.5462 - loss: 1.2185 - val_accuracy: 0.5801 - val_loss: 1.2809\n",
      "Epoch 26/128\n",
      "\u001b[1m23/23\u001b[0m \u001b[32m━━━━━━━━━━━━━━━━━━━━\u001b[0m\u001b[37m\u001b[0m \u001b[1m0s\u001b[0m 5ms/step - accuracy: 0.5743 - loss: 1.2035 - val_accuracy: 0.5801 - val_loss: 1.2925\n",
      "Epoch 27/128\n",
      "\u001b[1m23/23\u001b[0m \u001b[32m━━━━━━━━━━━━━━━━━━━━\u001b[0m\u001b[37m\u001b[0m \u001b[1m0s\u001b[0m 5ms/step - accuracy: 0.5797 - loss: 1.2195 - val_accuracy: 0.5714 - val_loss: 1.2959\n",
      "Epoch 28/128\n",
      "\u001b[1m23/23\u001b[0m \u001b[32m━━━━━━━━━━━━━━━━━━━━\u001b[0m\u001b[37m\u001b[0m \u001b[1m0s\u001b[0m 5ms/step - accuracy: 0.5474 - loss: 1.2233 - val_accuracy: 0.5671 - val_loss: 1.2881\n",
      "Epoch 29/128\n",
      "\u001b[1m23/23\u001b[0m \u001b[32m━━━━━━━━━━━━━━━━━━━━\u001b[0m\u001b[37m\u001b[0m \u001b[1m0s\u001b[0m 5ms/step - accuracy: 0.5721 - loss: 1.1310 - val_accuracy: 0.5801 - val_loss: 1.2827\n",
      "Epoch 30/128\n",
      "\u001b[1m23/23\u001b[0m \u001b[32m━━━━━━━━━━━━━━━━━━━━\u001b[0m\u001b[37m\u001b[0m \u001b[1m0s\u001b[0m 5ms/step - accuracy: 0.5631 - loss: 1.2049 - val_accuracy: 0.5714 - val_loss: 1.2886\n",
      "Epoch 31/128\n",
      "\u001b[1m23/23\u001b[0m \u001b[32m━━━━━━━━━━━━━━━━━━━━\u001b[0m\u001b[37m\u001b[0m \u001b[1m0s\u001b[0m 5ms/step - accuracy: 0.5922 - loss: 1.0987 - val_accuracy: 0.6407 - val_loss: 1.2279\n",
      "Epoch 32/128\n",
      "\u001b[1m23/23\u001b[0m \u001b[32m━━━━━━━━━━━━━━━━━━━━\u001b[0m\u001b[37m\u001b[0m \u001b[1m0s\u001b[0m 5ms/step - accuracy: 0.6380 - loss: 1.1052 - val_accuracy: 0.6017 - val_loss: 1.2836\n",
      "Epoch 33/128\n",
      "\u001b[1m23/23\u001b[0m \u001b[32m━━━━━━━━━━━━━━━━━━━━\u001b[0m\u001b[37m\u001b[0m \u001b[1m0s\u001b[0m 5ms/step - accuracy: 0.5869 - loss: 1.1687 - val_accuracy: 0.6277 - val_loss: 1.2556\n",
      "Epoch 34/128\n",
      "\u001b[1m23/23\u001b[0m \u001b[32m━━━━━━━━━━━━━━━━━━━━\u001b[0m\u001b[37m\u001b[0m \u001b[1m0s\u001b[0m 5ms/step - accuracy: 0.5946 - loss: 1.1266 - val_accuracy: 0.6277 - val_loss: 1.2221\n",
      "Epoch 35/128\n",
      "\u001b[1m23/23\u001b[0m \u001b[32m━━━━━━━━━━━━━━━━━━━━\u001b[0m\u001b[37m\u001b[0m \u001b[1m0s\u001b[0m 5ms/step - accuracy: 0.5672 - loss: 1.1413 - val_accuracy: 0.6061 - val_loss: 1.2985\n",
      "Epoch 36/128\n",
      "\u001b[1m23/23\u001b[0m \u001b[32m━━━━━━━━━━━━━━━━━━━━\u001b[0m\u001b[37m\u001b[0m \u001b[1m0s\u001b[0m 5ms/step - accuracy: 0.5964 - loss: 1.1228 - val_accuracy: 0.5974 - val_loss: 1.3080\n",
      "Epoch 37/128\n",
      "\u001b[1m23/23\u001b[0m \u001b[32m━━━━━━━━━━━━━━━━━━━━\u001b[0m\u001b[37m\u001b[0m \u001b[1m0s\u001b[0m 5ms/step - accuracy: 0.5832 - loss: 1.1597 - val_accuracy: 0.6623 - val_loss: 1.1439\n",
      "Epoch 38/128\n",
      "\u001b[1m23/23\u001b[0m \u001b[32m━━━━━━━━━━━━━━━━━━━━\u001b[0m\u001b[37m\u001b[0m \u001b[1m0s\u001b[0m 5ms/step - accuracy: 0.6033 - loss: 1.0764 - val_accuracy: 0.5931 - val_loss: 1.1860\n",
      "Epoch 39/128\n",
      "\u001b[1m23/23\u001b[0m \u001b[32m━━━━━━━━━━━━━━━━━━━━\u001b[0m\u001b[37m\u001b[0m \u001b[1m0s\u001b[0m 5ms/step - accuracy: 0.6200 - loss: 1.0616 - val_accuracy: 0.6104 - val_loss: 1.2831\n",
      "Epoch 40/128\n",
      "\u001b[1m23/23\u001b[0m \u001b[32m━━━━━━━━━━━━━━━━━━━━\u001b[0m\u001b[37m\u001b[0m \u001b[1m0s\u001b[0m 5ms/step - accuracy: 0.5889 - loss: 1.1389 - val_accuracy: 0.6104 - val_loss: 1.4078\n",
      "Epoch 41/128\n",
      "\u001b[1m23/23\u001b[0m \u001b[32m━━━━━━━━━━━━━━━━━━━━\u001b[0m\u001b[37m\u001b[0m \u001b[1m0s\u001b[0m 5ms/step - accuracy: 0.5912 - loss: 1.1407 - val_accuracy: 0.6710 - val_loss: 1.1300\n",
      "Epoch 42/128\n",
      "\u001b[1m23/23\u001b[0m \u001b[32m━━━━━━━━━━━━━━━━━━━━\u001b[0m\u001b[37m\u001b[0m \u001b[1m0s\u001b[0m 5ms/step - accuracy: 0.6278 - loss: 1.0321 - val_accuracy: 0.6537 - val_loss: 1.0667\n",
      "Epoch 43/128\n",
      "\u001b[1m23/23\u001b[0m \u001b[32m━━━━━━━━━━━━━━━━━━━━\u001b[0m\u001b[37m\u001b[0m \u001b[1m0s\u001b[0m 5ms/step - accuracy: 0.6064 - loss: 1.0811 - val_accuracy: 0.6364 - val_loss: 1.0703\n",
      "Epoch 44/128\n",
      "\u001b[1m23/23\u001b[0m \u001b[32m━━━━━━━━━━━━━━━━━━━━\u001b[0m\u001b[37m\u001b[0m \u001b[1m0s\u001b[0m 5ms/step - accuracy: 0.6226 - loss: 1.0724 - val_accuracy: 0.6407 - val_loss: 1.1556\n",
      "Epoch 45/128\n",
      "\u001b[1m23/23\u001b[0m \u001b[32m━━━━━━━━━━━━━━━━━━━━\u001b[0m\u001b[37m\u001b[0m \u001b[1m0s\u001b[0m 5ms/step - accuracy: 0.6413 - loss: 1.0501 - val_accuracy: 0.6580 - val_loss: 1.0660\n",
      "Epoch 46/128\n",
      "\u001b[1m23/23\u001b[0m \u001b[32m━━━━━━━━━━━━━━━━━━━━\u001b[0m\u001b[37m\u001b[0m \u001b[1m0s\u001b[0m 5ms/step - accuracy: 0.6544 - loss: 0.9681 - val_accuracy: 0.6667 - val_loss: 1.0765\n",
      "Epoch 47/128\n",
      "\u001b[1m23/23\u001b[0m \u001b[32m━━━━━━━━━━━━━━━━━━━━\u001b[0m\u001b[37m\u001b[0m \u001b[1m0s\u001b[0m 5ms/step - accuracy: 0.6247 - loss: 0.9768 - val_accuracy: 0.6580 - val_loss: 1.0391\n",
      "Epoch 48/128\n",
      "\u001b[1m23/23\u001b[0m \u001b[32m━━━━━━━━━━━━━━━━━━━━\u001b[0m\u001b[37m\u001b[0m \u001b[1m0s\u001b[0m 5ms/step - accuracy: 0.6522 - loss: 0.9837 - val_accuracy: 0.6667 - val_loss: 1.0470\n",
      "Epoch 49/128\n",
      "\u001b[1m23/23\u001b[0m \u001b[32m━━━━━━━━━━━━━━━━━━━━\u001b[0m\u001b[37m\u001b[0m \u001b[1m0s\u001b[0m 5ms/step - accuracy: 0.6626 - loss: 1.0011 - val_accuracy: 0.6537 - val_loss: 1.0373\n",
      "Epoch 50/128\n",
      "\u001b[1m23/23\u001b[0m \u001b[32m━━━━━━━━━━━━━━━━━━━━\u001b[0m\u001b[37m\u001b[0m \u001b[1m0s\u001b[0m 5ms/step - accuracy: 0.6521 - loss: 0.9749 - val_accuracy: 0.6970 - val_loss: 1.0023\n",
      "Epoch 51/128\n",
      "\u001b[1m23/23\u001b[0m \u001b[32m━━━━━━━━━━━━━━━━━━━━\u001b[0m\u001b[37m\u001b[0m \u001b[1m0s\u001b[0m 5ms/step - accuracy: 0.6428 - loss: 0.9635 - val_accuracy: 0.6926 - val_loss: 1.0390\n",
      "Epoch 52/128\n",
      "\u001b[1m23/23\u001b[0m \u001b[32m━━━━━━━━━━━━━━━━━━━━\u001b[0m\u001b[37m\u001b[0m \u001b[1m0s\u001b[0m 5ms/step - accuracy: 0.6679 - loss: 0.9805 - val_accuracy: 0.6926 - val_loss: 0.9782\n",
      "Epoch 53/128\n",
      "\u001b[1m23/23\u001b[0m \u001b[32m━━━━━━━━━━━━━━━━━━━━\u001b[0m\u001b[37m\u001b[0m \u001b[1m0s\u001b[0m 5ms/step - accuracy: 0.6814 - loss: 0.9400 - val_accuracy: 0.7273 - val_loss: 0.9362\n",
      "Epoch 54/128\n",
      "\u001b[1m23/23\u001b[0m \u001b[32m━━━━━━━━━━━━━━━━━━━━\u001b[0m\u001b[37m\u001b[0m \u001b[1m0s\u001b[0m 5ms/step - accuracy: 0.7176 - loss: 0.8737 - val_accuracy: 0.6970 - val_loss: 0.9872\n",
      "Epoch 55/128\n",
      "\u001b[1m23/23\u001b[0m \u001b[32m━━━━━━━━━━━━━━━━━━━━\u001b[0m\u001b[37m\u001b[0m \u001b[1m0s\u001b[0m 5ms/step - accuracy: 0.6524 - loss: 0.9262 - val_accuracy: 0.6623 - val_loss: 1.0830\n",
      "Epoch 56/128\n",
      "\u001b[1m23/23\u001b[0m \u001b[32m━━━━━━━━━━━━━━━━━━━━\u001b[0m\u001b[37m\u001b[0m \u001b[1m0s\u001b[0m 5ms/step - accuracy: 0.6974 - loss: 0.9565 - val_accuracy: 0.7056 - val_loss: 1.0171\n",
      "Epoch 57/128\n",
      "\u001b[1m23/23\u001b[0m \u001b[32m━━━━━━━━━━━━━━━━━━━━\u001b[0m\u001b[37m\u001b[0m \u001b[1m0s\u001b[0m 5ms/step - accuracy: 0.6943 - loss: 0.9235 - val_accuracy: 0.6537 - val_loss: 1.0831\n",
      "Epoch 58/128\n",
      "\u001b[1m23/23\u001b[0m \u001b[32m━━━━━━━━━━━━━━━━━━━━\u001b[0m\u001b[37m\u001b[0m \u001b[1m0s\u001b[0m 5ms/step - accuracy: 0.6342 - loss: 0.9936 - val_accuracy: 0.7013 - val_loss: 1.0174\n",
      "Epoch 59/128\n",
      "\u001b[1m23/23\u001b[0m \u001b[32m━━━━━━━━━━━━━━━━━━━━\u001b[0m\u001b[37m\u001b[0m \u001b[1m0s\u001b[0m 5ms/step - accuracy: 0.6866 - loss: 0.9285 - val_accuracy: 0.7229 - val_loss: 0.9362\n",
      "Epoch 60/128\n",
      "\u001b[1m23/23\u001b[0m \u001b[32m━━━━━━━━━━━━━━━━━━━━\u001b[0m\u001b[37m\u001b[0m \u001b[1m0s\u001b[0m 5ms/step - accuracy: 0.7347 - loss: 0.7999 - val_accuracy: 0.6667 - val_loss: 1.0165\n",
      "Epoch 61/128\n",
      "\u001b[1m23/23\u001b[0m \u001b[32m━━━━━━━━━━━━━━━━━━━━\u001b[0m\u001b[37m\u001b[0m \u001b[1m0s\u001b[0m 5ms/step - accuracy: 0.6555 - loss: 0.9279 - val_accuracy: 0.7143 - val_loss: 0.9477\n",
      "Epoch 62/128\n",
      "\u001b[1m23/23\u001b[0m \u001b[32m━━━━━━━━━━━━━━━━━━━━\u001b[0m\u001b[37m\u001b[0m \u001b[1m0s\u001b[0m 5ms/step - accuracy: 0.7126 - loss: 0.8542 - val_accuracy: 0.6840 - val_loss: 0.9803\n",
      "Epoch 63/128\n",
      "\u001b[1m23/23\u001b[0m \u001b[32m━━━━━━━━━━━━━━━━━━━━\u001b[0m\u001b[37m\u001b[0m \u001b[1m0s\u001b[0m 5ms/step - accuracy: 0.7009 - loss: 0.8668 - val_accuracy: 0.6840 - val_loss: 0.9878\n",
      "Epoch 64/128\n",
      "\u001b[1m23/23\u001b[0m \u001b[32m━━━━━━━━━━━━━━━━━━━━\u001b[0m\u001b[37m\u001b[0m \u001b[1m0s\u001b[0m 5ms/step - accuracy: 0.7041 - loss: 0.8771 - val_accuracy: 0.6623 - val_loss: 1.0014\n",
      "Epoch 65/128\n",
      "\u001b[1m23/23\u001b[0m \u001b[32m━━━━━━━━━━━━━━━━━━━━\u001b[0m\u001b[37m\u001b[0m \u001b[1m0s\u001b[0m 5ms/step - accuracy: 0.7089 - loss: 0.8729 - val_accuracy: 0.6970 - val_loss: 0.9443\n",
      "Epoch 66/128\n",
      "\u001b[1m23/23\u001b[0m \u001b[32m━━━━━━━━━━━━━━━━━━━━\u001b[0m\u001b[37m\u001b[0m \u001b[1m0s\u001b[0m 5ms/step - accuracy: 0.7665 - loss: 0.7907 - val_accuracy: 0.6104 - val_loss: 1.0693\n",
      "Epoch 67/128\n",
      "\u001b[1m23/23\u001b[0m \u001b[32m━━━━━━━━━━━━━━━━━━━━\u001b[0m\u001b[37m\u001b[0m \u001b[1m0s\u001b[0m 5ms/step - accuracy: 0.7093 - loss: 0.8082 - val_accuracy: 0.7186 - val_loss: 0.9099\n",
      "Epoch 68/128\n",
      "\u001b[1m23/23\u001b[0m \u001b[32m━━━━━━━━━━━━━━━━━━━━\u001b[0m\u001b[37m\u001b[0m \u001b[1m0s\u001b[0m 5ms/step - accuracy: 0.7124 - loss: 0.7965 - val_accuracy: 0.6883 - val_loss: 0.9847\n",
      "Epoch 69/128\n",
      "\u001b[1m23/23\u001b[0m \u001b[32m━━━━━━━━━━━━━━━━━━━━\u001b[0m\u001b[37m\u001b[0m \u001b[1m0s\u001b[0m 5ms/step - accuracy: 0.6853 - loss: 0.8498 - val_accuracy: 0.7489 - val_loss: 0.8951\n",
      "Epoch 70/128\n",
      "\u001b[1m23/23\u001b[0m \u001b[32m━━━━━━━━━━━━━━━━━━━━\u001b[0m\u001b[37m\u001b[0m \u001b[1m0s\u001b[0m 5ms/step - accuracy: 0.7291 - loss: 0.8411 - val_accuracy: 0.7316 - val_loss: 0.9863\n",
      "Epoch 71/128\n",
      "\u001b[1m23/23\u001b[0m \u001b[32m━━━━━━━━━━━━━━━━━━━━\u001b[0m\u001b[37m\u001b[0m \u001b[1m0s\u001b[0m 5ms/step - accuracy: 0.7392 - loss: 0.7864 - val_accuracy: 0.6926 - val_loss: 0.9406\n",
      "Epoch 72/128\n",
      "\u001b[1m23/23\u001b[0m \u001b[32m━━━━━━━━━━━━━━━━━━━━\u001b[0m\u001b[37m\u001b[0m \u001b[1m0s\u001b[0m 5ms/step - accuracy: 0.7527 - loss: 0.8021 - val_accuracy: 0.6797 - val_loss: 0.9241\n",
      "Epoch 73/128\n",
      "\u001b[1m23/23\u001b[0m \u001b[32m━━━━━━━━━━━━━━━━━━━━\u001b[0m\u001b[37m\u001b[0m \u001b[1m0s\u001b[0m 5ms/step - accuracy: 0.7225 - loss: 0.8091 - val_accuracy: 0.7749 - val_loss: 0.8871\n",
      "Epoch 74/128\n",
      "\u001b[1m23/23\u001b[0m \u001b[32m━━━━━━━━━━━━━━━━━━━━\u001b[0m\u001b[37m\u001b[0m \u001b[1m0s\u001b[0m 5ms/step - accuracy: 0.7565 - loss: 0.7473 - val_accuracy: 0.7316 - val_loss: 0.8659\n",
      "Epoch 75/128\n",
      "\u001b[1m23/23\u001b[0m \u001b[32m━━━━━━━━━━━━━━━━━━━━\u001b[0m\u001b[37m\u001b[0m \u001b[1m0s\u001b[0m 5ms/step - accuracy: 0.7192 - loss: 0.7524 - val_accuracy: 0.7056 - val_loss: 0.9288\n",
      "Epoch 76/128\n",
      "\u001b[1m23/23\u001b[0m \u001b[32m━━━━━━━━━━━━━━━━━━━━\u001b[0m\u001b[37m\u001b[0m \u001b[1m0s\u001b[0m 5ms/step - accuracy: 0.7305 - loss: 0.7919 - val_accuracy: 0.7056 - val_loss: 0.9744\n",
      "Epoch 77/128\n",
      "\u001b[1m23/23\u001b[0m \u001b[32m━━━━━━━━━━━━━━━━━━━━\u001b[0m\u001b[37m\u001b[0m \u001b[1m0s\u001b[0m 5ms/step - accuracy: 0.7325 - loss: 0.7636 - val_accuracy: 0.7186 - val_loss: 0.8867\n",
      "Epoch 78/128\n",
      "\u001b[1m23/23\u001b[0m \u001b[32m━━━━━━━━━━━━━━━━━━━━\u001b[0m\u001b[37m\u001b[0m \u001b[1m0s\u001b[0m 5ms/step - accuracy: 0.6894 - loss: 0.8663 - val_accuracy: 0.6883 - val_loss: 1.0504\n",
      "Epoch 79/128\n",
      "\u001b[1m23/23\u001b[0m \u001b[32m━━━━━━━━━━━━━━━━━━━━\u001b[0m\u001b[37m\u001b[0m \u001b[1m0s\u001b[0m 5ms/step - accuracy: 0.7092 - loss: 0.8631 - val_accuracy: 0.7403 - val_loss: 0.9424\n",
      "Epoch 80/128\n",
      "\u001b[1m23/23\u001b[0m \u001b[32m━━━━━━━━━━━━━━━━━━━━\u001b[0m\u001b[37m\u001b[0m \u001b[1m0s\u001b[0m 5ms/step - accuracy: 0.7327 - loss: 0.7729 - val_accuracy: 0.7706 - val_loss: 0.8462\n",
      "Epoch 81/128\n",
      "\u001b[1m23/23\u001b[0m \u001b[32m━━━━━━━━━━━━━━━━━━━━\u001b[0m\u001b[37m\u001b[0m \u001b[1m0s\u001b[0m 5ms/step - accuracy: 0.7808 - loss: 0.7025 - val_accuracy: 0.7576 - val_loss: 0.8512\n",
      "Epoch 82/128\n",
      "\u001b[1m23/23\u001b[0m \u001b[32m━━━━━━━━━━━━━━━━━━━━\u001b[0m\u001b[37m\u001b[0m \u001b[1m0s\u001b[0m 5ms/step - accuracy: 0.7563 - loss: 0.7481 - val_accuracy: 0.7792 - val_loss: 0.8546\n",
      "Epoch 83/128\n",
      "\u001b[1m23/23\u001b[0m \u001b[32m━━━━━━━━━━━━━━━━━━━━\u001b[0m\u001b[37m\u001b[0m \u001b[1m0s\u001b[0m 5ms/step - accuracy: 0.7408 - loss: 0.7219 - val_accuracy: 0.7316 - val_loss: 0.9246\n",
      "Epoch 84/128\n",
      "\u001b[1m23/23\u001b[0m \u001b[32m━━━━━━━━━━━━━━━━━━━━\u001b[0m\u001b[37m\u001b[0m \u001b[1m0s\u001b[0m 5ms/step - accuracy: 0.7616 - loss: 0.6899 - val_accuracy: 0.7576 - val_loss: 0.8524\n",
      "Epoch 85/128\n",
      "\u001b[1m23/23\u001b[0m \u001b[32m━━━━━━━━━━━━━━━━━━━━\u001b[0m\u001b[37m\u001b[0m \u001b[1m0s\u001b[0m 5ms/step - accuracy: 0.7408 - loss: 0.7342 - val_accuracy: 0.7359 - val_loss: 0.9164\n",
      "Epoch 86/128\n",
      "\u001b[1m23/23\u001b[0m \u001b[32m━━━━━━━━━━━━━━━━━━━━\u001b[0m\u001b[37m\u001b[0m \u001b[1m0s\u001b[0m 5ms/step - accuracy: 0.7471 - loss: 0.7488 - val_accuracy: 0.7229 - val_loss: 0.9896\n",
      "Epoch 87/128\n",
      "\u001b[1m23/23\u001b[0m \u001b[32m━━━━━━━━━━━━━━━━━━━━\u001b[0m\u001b[37m\u001b[0m \u001b[1m0s\u001b[0m 5ms/step - accuracy: 0.7496 - loss: 0.7050 - val_accuracy: 0.7706 - val_loss: 0.8907\n",
      "Epoch 88/128\n",
      "\u001b[1m23/23\u001b[0m \u001b[32m━━━━━━━━━━━━━━━━━━━━\u001b[0m\u001b[37m\u001b[0m \u001b[1m0s\u001b[0m 5ms/step - accuracy: 0.7321 - loss: 0.7744 - val_accuracy: 0.7835 - val_loss: 0.8110\n",
      "Epoch 89/128\n",
      "\u001b[1m23/23\u001b[0m \u001b[32m━━━━━━━━━━━━━━━━━━━━\u001b[0m\u001b[37m\u001b[0m \u001b[1m0s\u001b[0m 5ms/step - accuracy: 0.7928 - loss: 0.6631 - val_accuracy: 0.7143 - val_loss: 0.9427\n",
      "Epoch 90/128\n",
      "\u001b[1m23/23\u001b[0m \u001b[32m━━━━━━━━━━━━━━━━━━━━\u001b[0m\u001b[37m\u001b[0m \u001b[1m0s\u001b[0m 5ms/step - accuracy: 0.7248 - loss: 0.7577 - val_accuracy: 0.6494 - val_loss: 1.1612\n",
      "Epoch 91/128\n",
      "\u001b[1m23/23\u001b[0m \u001b[32m━━━━━━━━━━━━━━━━━━━━\u001b[0m\u001b[37m\u001b[0m \u001b[1m0s\u001b[0m 5ms/step - accuracy: 0.7103 - loss: 0.7641 - val_accuracy: 0.7619 - val_loss: 0.8811\n",
      "Epoch 92/128\n",
      "\u001b[1m23/23\u001b[0m \u001b[32m━━━━━━━━━━━━━━━━━━━━\u001b[0m\u001b[37m\u001b[0m \u001b[1m0s\u001b[0m 5ms/step - accuracy: 0.7817 - loss: 0.6534 - val_accuracy: 0.7662 - val_loss: 0.9212\n",
      "Epoch 93/128\n",
      "\u001b[1m23/23\u001b[0m \u001b[32m━━━━━━━━━━━━━━━━━━━━\u001b[0m\u001b[37m\u001b[0m \u001b[1m0s\u001b[0m 5ms/step - accuracy: 0.7303 - loss: 0.7403 - val_accuracy: 0.7013 - val_loss: 0.9376\n",
      "Epoch 94/128\n",
      "\u001b[1m23/23\u001b[0m \u001b[32m━━━━━━━━━━━━━━━━━━━━\u001b[0m\u001b[37m\u001b[0m \u001b[1m0s\u001b[0m 5ms/step - accuracy: 0.7865 - loss: 0.6772 - val_accuracy: 0.7662 - val_loss: 0.8929\n",
      "Epoch 95/128\n",
      "\u001b[1m23/23\u001b[0m \u001b[32m━━━━━━━━━━━━━━━━━━━━\u001b[0m\u001b[37m\u001b[0m \u001b[1m0s\u001b[0m 5ms/step - accuracy: 0.7517 - loss: 0.7060 - val_accuracy: 0.7835 - val_loss: 0.8095\n",
      "Epoch 96/128\n",
      "\u001b[1m23/23\u001b[0m \u001b[32m━━━━━━━━━━━━━━━━━━━━\u001b[0m\u001b[37m\u001b[0m \u001b[1m0s\u001b[0m 5ms/step - accuracy: 0.7809 - loss: 0.6596 - val_accuracy: 0.7662 - val_loss: 0.8186\n",
      "Epoch 97/128\n",
      "\u001b[1m23/23\u001b[0m \u001b[32m━━━━━━━━━━━━━━━━━━━━\u001b[0m\u001b[37m\u001b[0m \u001b[1m0s\u001b[0m 5ms/step - accuracy: 0.7838 - loss: 0.6300 - val_accuracy: 0.7922 - val_loss: 0.8520\n",
      "Epoch 98/128\n",
      "\u001b[1m23/23\u001b[0m \u001b[32m━━━━━━━━━━━━━━━━━━━━\u001b[0m\u001b[37m\u001b[0m \u001b[1m0s\u001b[0m 5ms/step - accuracy: 0.7865 - loss: 0.6731 - val_accuracy: 0.7489 - val_loss: 0.8837\n",
      "Epoch 99/128\n",
      "\u001b[1m23/23\u001b[0m \u001b[32m━━━━━━━━━━━━━━━━━━━━\u001b[0m\u001b[37m\u001b[0m \u001b[1m0s\u001b[0m 5ms/step - accuracy: 0.7496 - loss: 0.6797 - val_accuracy: 0.7316 - val_loss: 0.9485\n",
      "Epoch 100/128\n",
      "\u001b[1m23/23\u001b[0m \u001b[32m━━━━━━━━━━━━━━━━━━━━\u001b[0m\u001b[37m\u001b[0m \u001b[1m0s\u001b[0m 5ms/step - accuracy: 0.7397 - loss: 0.6830 - val_accuracy: 0.7619 - val_loss: 0.8751\n",
      "Epoch 101/128\n",
      "\u001b[1m23/23\u001b[0m \u001b[32m━━━━━━━━━━━━━━━━━━━━\u001b[0m\u001b[37m\u001b[0m \u001b[1m0s\u001b[0m 5ms/step - accuracy: 0.7717 - loss: 0.6287 - val_accuracy: 0.7532 - val_loss: 0.8464\n",
      "Epoch 102/128\n",
      "\u001b[1m23/23\u001b[0m \u001b[32m━━━━━━━━━━━━━━━━━━━━\u001b[0m\u001b[37m\u001b[0m \u001b[1m0s\u001b[0m 5ms/step - accuracy: 0.7417 - loss: 0.6771 - val_accuracy: 0.7749 - val_loss: 0.8022\n",
      "Epoch 103/128\n",
      "\u001b[1m23/23\u001b[0m \u001b[32m━━━━━━━━━━━━━━━━━━━━\u001b[0m\u001b[37m\u001b[0m \u001b[1m0s\u001b[0m 5ms/step - accuracy: 0.8019 - loss: 0.6158 - val_accuracy: 0.6926 - val_loss: 0.9401\n",
      "Epoch 104/128\n",
      "\u001b[1m23/23\u001b[0m \u001b[32m━━━━━━━━━━━━━━━━━━━━\u001b[0m\u001b[37m\u001b[0m \u001b[1m0s\u001b[0m 5ms/step - accuracy: 0.7711 - loss: 0.6555 - val_accuracy: 0.7532 - val_loss: 0.8602\n",
      "Epoch 105/128\n",
      "\u001b[1m23/23\u001b[0m \u001b[32m━━━━━━━━━━━━━━━━━━━━\u001b[0m\u001b[37m\u001b[0m \u001b[1m0s\u001b[0m 5ms/step - accuracy: 0.7511 - loss: 0.6657 - val_accuracy: 0.7749 - val_loss: 0.8004\n",
      "Epoch 106/128\n",
      "\u001b[1m23/23\u001b[0m \u001b[32m━━━━━━━━━━━━━━━━━━━━\u001b[0m\u001b[37m\u001b[0m \u001b[1m0s\u001b[0m 5ms/step - accuracy: 0.7894 - loss: 0.6042 - val_accuracy: 0.6364 - val_loss: 1.1540\n",
      "Epoch 107/128\n",
      "\u001b[1m23/23\u001b[0m \u001b[32m━━━━━━━━━━━━━━━━━━━━\u001b[0m\u001b[37m\u001b[0m \u001b[1m0s\u001b[0m 5ms/step - accuracy: 0.7681 - loss: 0.6520 - val_accuracy: 0.7446 - val_loss: 0.8808\n",
      "Epoch 108/128\n",
      "\u001b[1m23/23\u001b[0m \u001b[32m━━━━━━━━━━━━━━━━━━━━\u001b[0m\u001b[37m\u001b[0m \u001b[1m0s\u001b[0m 5ms/step - accuracy: 0.7990 - loss: 0.5917 - val_accuracy: 0.7749 - val_loss: 0.7806\n",
      "Epoch 109/128\n",
      "\u001b[1m23/23\u001b[0m \u001b[32m━━━━━━━━━━━━━━━━━━━━\u001b[0m\u001b[37m\u001b[0m \u001b[1m0s\u001b[0m 5ms/step - accuracy: 0.7865 - loss: 0.6015 - val_accuracy: 0.7619 - val_loss: 0.8263\n",
      "Epoch 110/128\n",
      "\u001b[1m23/23\u001b[0m \u001b[32m━━━━━━━━━━━━━━━━━━━━\u001b[0m\u001b[37m\u001b[0m \u001b[1m0s\u001b[0m 5ms/step - accuracy: 0.7898 - loss: 0.6239 - val_accuracy: 0.7749 - val_loss: 0.8115\n",
      "Epoch 111/128\n",
      "\u001b[1m23/23\u001b[0m \u001b[32m━━━━━━━━━━━━━━━━━━━━\u001b[0m\u001b[37m\u001b[0m \u001b[1m0s\u001b[0m 5ms/step - accuracy: 0.7877 - loss: 0.6145 - val_accuracy: 0.7316 - val_loss: 0.8676\n",
      "Epoch 112/128\n",
      "\u001b[1m23/23\u001b[0m \u001b[32m━━━━━━━━━━━━━━━━━━━━\u001b[0m\u001b[37m\u001b[0m \u001b[1m0s\u001b[0m 5ms/step - accuracy: 0.8114 - loss: 0.5537 - val_accuracy: 0.7489 - val_loss: 0.9084\n",
      "Epoch 113/128\n",
      "\u001b[1m23/23\u001b[0m \u001b[32m━━━━━━━━━━━━━━━━━━━━\u001b[0m\u001b[37m\u001b[0m \u001b[1m0s\u001b[0m 5ms/step - accuracy: 0.7964 - loss: 0.6154 - val_accuracy: 0.7359 - val_loss: 0.8417\n",
      "Epoch 114/128\n",
      "\u001b[1m23/23\u001b[0m \u001b[32m━━━━━━━━━━━━━━━━━━━━\u001b[0m\u001b[37m\u001b[0m \u001b[1m0s\u001b[0m 5ms/step - accuracy: 0.8104 - loss: 0.5712 - val_accuracy: 0.7100 - val_loss: 0.9548\n",
      "Epoch 115/128\n",
      "\u001b[1m23/23\u001b[0m \u001b[32m━━━━━━━━━━━━━━━━━━━━\u001b[0m\u001b[37m\u001b[0m \u001b[1m0s\u001b[0m 5ms/step - accuracy: 0.7440 - loss: 0.6765 - val_accuracy: 0.7013 - val_loss: 1.0022\n",
      "Epoch 116/128\n",
      "\u001b[1m23/23\u001b[0m \u001b[32m━━━━━━━━━━━━━━━━━━━━\u001b[0m\u001b[37m\u001b[0m \u001b[1m0s\u001b[0m 5ms/step - accuracy: 0.7362 - loss: 0.6685 - val_accuracy: 0.7576 - val_loss: 0.8555\n",
      "Epoch 117/128\n",
      "\u001b[1m23/23\u001b[0m \u001b[32m━━━━━━━━━━━━━━━━━━━━\u001b[0m\u001b[37m\u001b[0m \u001b[1m0s\u001b[0m 5ms/step - accuracy: 0.8257 - loss: 0.5220 - val_accuracy: 0.7403 - val_loss: 0.8639\n",
      "Epoch 118/128\n",
      "\u001b[1m23/23\u001b[0m \u001b[32m━━━━━━━━━━━━━━━━━━━━\u001b[0m\u001b[37m\u001b[0m \u001b[1m0s\u001b[0m 5ms/step - accuracy: 0.8106 - loss: 0.5695 - val_accuracy: 0.8052 - val_loss: 0.8097\n",
      "Epoch 119/128\n",
      "\u001b[1m23/23\u001b[0m \u001b[32m━━━━━━━━━━━━━━━━━━━━\u001b[0m\u001b[37m\u001b[0m \u001b[1m0s\u001b[0m 5ms/step - accuracy: 0.8284 - loss: 0.5197 - val_accuracy: 0.7619 - val_loss: 0.8436\n",
      "Epoch 120/128\n",
      "\u001b[1m23/23\u001b[0m \u001b[32m━━━━━━━━━━━━━━━━━━━━\u001b[0m\u001b[37m\u001b[0m \u001b[1m0s\u001b[0m 5ms/step - accuracy: 0.8141 - loss: 0.4977 - val_accuracy: 0.7619 - val_loss: 0.8400\n",
      "Epoch 121/128\n",
      "\u001b[1m23/23\u001b[0m \u001b[32m━━━━━━━━━━━━━━━━━━━━\u001b[0m\u001b[37m\u001b[0m \u001b[1m0s\u001b[0m 5ms/step - accuracy: 0.8169 - loss: 0.5369 - val_accuracy: 0.7879 - val_loss: 0.7910\n",
      "Epoch 122/128\n",
      "\u001b[1m23/23\u001b[0m \u001b[32m━━━━━━━━━━━━━━━━━━━━\u001b[0m\u001b[37m\u001b[0m \u001b[1m0s\u001b[0m 5ms/step - accuracy: 0.8119 - loss: 0.5646 - val_accuracy: 0.7403 - val_loss: 0.8899\n",
      "Epoch 123/128\n",
      "\u001b[1m23/23\u001b[0m \u001b[32m━━━━━━━━━━━━━━━━━━━━\u001b[0m\u001b[37m\u001b[0m \u001b[1m0s\u001b[0m 5ms/step - accuracy: 0.7870 - loss: 0.5282 - val_accuracy: 0.7835 - val_loss: 0.7639\n",
      "Epoch 124/128\n",
      "\u001b[1m23/23\u001b[0m \u001b[32m━━━━━━━━━━━━━━━━━━━━\u001b[0m\u001b[37m\u001b[0m \u001b[1m0s\u001b[0m 5ms/step - accuracy: 0.7489 - loss: 0.6417 - val_accuracy: 0.7922 - val_loss: 0.7855\n",
      "Epoch 125/128\n",
      "\u001b[1m23/23\u001b[0m \u001b[32m━━━━━━━━━━━━━━━━━━━━\u001b[0m\u001b[37m\u001b[0m \u001b[1m0s\u001b[0m 5ms/step - accuracy: 0.7887 - loss: 0.5848 - val_accuracy: 0.7749 - val_loss: 0.7996\n",
      "Epoch 126/128\n",
      "\u001b[1m23/23\u001b[0m \u001b[32m━━━━━━━━━━━━━━━━━━━━\u001b[0m\u001b[37m\u001b[0m \u001b[1m0s\u001b[0m 5ms/step - accuracy: 0.8017 - loss: 0.5465 - val_accuracy: 0.7835 - val_loss: 0.8128\n",
      "Epoch 127/128\n",
      "\u001b[1m23/23\u001b[0m \u001b[32m━━━━━━━━━━━━━━━━━━━━\u001b[0m\u001b[37m\u001b[0m \u001b[1m0s\u001b[0m 5ms/step - accuracy: 0.8246 - loss: 0.5169 - val_accuracy: 0.7792 - val_loss: 0.8142\n",
      "Epoch 128/128\n",
      "\u001b[1m23/23\u001b[0m \u001b[32m━━━━━━━━━━━━━━━━━━━━\u001b[0m\u001b[37m\u001b[0m \u001b[1m0s\u001b[0m 5ms/step - accuracy: 0.7780 - loss: 0.5867 - val_accuracy: 0.7835 - val_loss: 0.7986\n"
     ]
    },
    {
     "data": {
      "text/plain": [
       "<keras.src.callbacks.history.History at 0x781fb55fbdd0>"
      ]
     },
     "execution_count": 17,
     "metadata": {},
     "output_type": "execute_result"
    }
   ],
   "source": [
    "model.fit(x_train,y_train,epochs=128,batch_size=32,validation_split=0.24) \n",
    "\n",
    "#.fit() is training Keras model on the anemia dataset."
   ]
  },
  {
   "cell_type": "code",
   "execution_count": null,
   "id": "68a5ff5c",
   "metadata": {
    "papermill": {
     "duration": 0.017888,
     "end_time": "2025-08-03T20:20:09.030338",
     "exception": false,
     "start_time": "2025-08-03T20:20:09.012450",
     "status": "completed"
    },
    "tags": []
   },
   "outputs": [],
   "source": []
  }
 ],
 "metadata": {
  "kaggle": {
   "accelerator": "none",
   "dataSources": [
    {
     "datasetId": 4994222,
     "sourceId": 8395079,
     "sourceType": "datasetVersion"
    }
   ],
   "dockerImageVersionId": 31089,
   "isGpuEnabled": false,
   "isInternetEnabled": true,
   "language": "python",
   "sourceType": "notebook"
  },
  "kernelspec": {
   "display_name": "Python 3",
   "language": "python",
   "name": "python3"
  },
  "language_info": {
   "codemirror_mode": {
    "name": "ipython",
    "version": 3
   },
   "file_extension": ".py",
   "mimetype": "text/x-python",
   "name": "python",
   "nbconvert_exporter": "python",
   "pygments_lexer": "ipython3",
   "version": "3.11.13"
  },
  "papermill": {
   "default_parameters": {},
   "duration": 45.207692,
   "end_time": "2025-08-03T20:20:11.875666",
   "environment_variables": {},
   "exception": null,
   "input_path": "__notebook__.ipynb",
   "output_path": "__notebook__.ipynb",
   "parameters": {},
   "start_time": "2025-08-03T20:19:26.667974",
   "version": "2.6.0"
  }
 },
 "nbformat": 4,
 "nbformat_minor": 5
}
